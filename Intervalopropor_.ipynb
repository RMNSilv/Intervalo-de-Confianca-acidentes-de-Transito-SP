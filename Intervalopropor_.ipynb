{
 "cells": [
  {
   "cell_type": "markdown",
   "id": "4a3dd70b",
   "metadata": {},
   "source": [
    "Este estudo foi realizado com o objetivo de construir um intervalo de confianca para a proporcao de acidentes ocorridos no Estado de Sao Paulo aos finais de semana e que possuem como causa a ingestao de bebidas alcoolicas.\n",
    "Desta forma, utilizei como amostra um dataset de acidentes de transito no ano de 2020, obtido na plataforma Kaggle.\n",
    "site: https://www.kaggle.com/"
   ]
  },
  {
   "cell_type": "code",
   "execution_count": 1,
   "id": "9ea2a665",
   "metadata": {},
   "outputs": [
    {
     "name": "stdout",
     "output_type": "stream",
     "text": [
      "Requirement already satisfied: pandas in c:\\users\\diego\\anaconda3\\lib\\site-packages (1.2.4)\n",
      "Requirement already satisfied: pytz>=2017.3 in c:\\users\\diego\\anaconda3\\lib\\site-packages (from pandas) (2021.1)\n",
      "Requirement already satisfied: python-dateutil>=2.7.3 in c:\\users\\diego\\anaconda3\\lib\\site-packages (from pandas) (2.8.1)\n",
      "Requirement already satisfied: numpy>=1.16.5 in c:\\users\\diego\\anaconda3\\lib\\site-packages (from pandas) (1.20.1)\n",
      "Requirement already satisfied: six>=1.5 in c:\\users\\diego\\anaconda3\\lib\\site-packages (from python-dateutil>=2.7.3->pandas) (1.15.0)\n",
      "Note: you may need to restart the kernel to use updated packages.\n"
     ]
    }
   ],
   "source": [
    "pip install pandas"
   ]
  },
  {
   "cell_type": "code",
   "execution_count": 2,
   "id": "7e88d364",
   "metadata": {},
   "outputs": [
    {
     "data": {
      "text/html": [
       "<div>\n",
       "<style scoped>\n",
       "    .dataframe tbody tr th:only-of-type {\n",
       "        vertical-align: middle;\n",
       "    }\n",
       "\n",
       "    .dataframe tbody tr th {\n",
       "        vertical-align: top;\n",
       "    }\n",
       "\n",
       "    .dataframe thead th {\n",
       "        text-align: right;\n",
       "    }\n",
       "</style>\n",
       "<table border=\"1\" class=\"dataframe\">\n",
       "  <thead>\n",
       "    <tr style=\"text-align: right;\">\n",
       "      <th></th>\n",
       "      <th>dia_semana</th>\n",
       "      <th>causa</th>\n",
       "      <th>uf</th>\n",
       "    </tr>\n",
       "  </thead>\n",
       "  <tbody>\n",
       "    <tr>\n",
       "      <th>0</th>\n",
       "      <td>4</td>\n",
       "      <td>Outros</td>\n",
       "      <td>TO</td>\n",
       "    </tr>\n",
       "    <tr>\n",
       "      <th>1</th>\n",
       "      <td>4</td>\n",
       "      <td>Outros</td>\n",
       "      <td>RJ</td>\n",
       "    </tr>\n",
       "    <tr>\n",
       "      <th>2</th>\n",
       "      <td>4</td>\n",
       "      <td>Alcool</td>\n",
       "      <td>SC</td>\n",
       "    </tr>\n",
       "    <tr>\n",
       "      <th>3</th>\n",
       "      <td>4</td>\n",
       "      <td>Outros</td>\n",
       "      <td>RO</td>\n",
       "    </tr>\n",
       "    <tr>\n",
       "      <th>4</th>\n",
       "      <td>4</td>\n",
       "      <td>Alcool</td>\n",
       "      <td>PR</td>\n",
       "    </tr>\n",
       "  </tbody>\n",
       "</table>\n",
       "</div>"
      ],
      "text/plain": [
       "   dia_semana   causa  uf\n",
       "0           4  Outros  TO\n",
       "1           4  Outros  RJ\n",
       "2           4  Alcool  SC\n",
       "3           4  Outros  RO\n",
       "4           4  Alcool  PR"
      ]
     },
     "execution_count": 2,
     "metadata": {},
     "output_type": "execute_result"
    }
   ],
   "source": [
    "#Apos instalacao da biblioteca Pandas, realizei a importacao da plataforma para o script, assim como, a importacao da \n",
    "#bibliotecastatsmodels, da qual utilizarei as funcoes de Estatistica Inferencial.\n",
    "\n",
    "#Alem disso, importei para o script o arquivo em excel com os dados de acidentes no ano de 2020 em todo o pais.\n",
    "\n",
    "#Algumas alteracoes foram realizadas no arquivo a fim de facilitar seu manuseio:\n",
    "\n",
    "#Os dias da semana foram codificados com os numeros de 1 a 7, sendo 1 o dia de domingo e 7 dia de sabado.\n",
    "\n",
    "#As causas de acidentes foram reclassificadas, sendo os acidentes causados pela ingestao de alcool do motorista classificados \n",
    "#como Alcool e o restante das causas classificadas como Outros.\n",
    "\n",
    "#O dataset apresentava outras colunas, porem utilizei somente as colunas necessarias para este estudo, com o objetivo de \n",
    "#facilitar o uso destas informacoes.\n",
    "\n",
    "\n",
    "import pandas as pd\n",
    "import statsmodels.api as sm\n",
    "acidentes = pd.read_excel(r\"e:/Desktop/ECaso3/acidentes_2020.xlsx\")\n",
    "acidentes.head()"
   ]
  },
  {
   "cell_type": "code",
   "execution_count": 3,
   "id": "f8c28b5d",
   "metadata": {},
   "outputs": [],
   "source": [
    "#Como observacao, considerei como final de semana para este estudo os dias Sexta-feira, Sabado e Domingo.\n",
    "\n",
    "valores = [1,6,7,\"Alcool\",\"SP\"]\n",
    "acidentes_2 = acidentes[acidentes.causa.isin(valores) & acidentes.uf.isin(valores)]\n",
    "\n",
    "acidentes_3 = acidentes[acidentes.dia_semana.isin(valores) & acidentes.causa.isin(valores) & acidentes.uf.isin(valores)]"
   ]
  },
  {
   "cell_type": "code",
   "execution_count": 6,
   "id": "fc7f2ff1",
   "metadata": {},
   "outputs": [
    {
     "data": {
      "text/plain": [
       "0.689"
      ]
     },
     "execution_count": 6,
     "metadata": {},
     "output_type": "execute_result"
    }
   ],
   "source": [
    "#Com esses subsets definidos, podemos entao calcular a proporcao desses acidentes em nossa amostra.\n",
    "\n",
    "n = len(acidentes_2)\n",
    "p = round(len(acidentes_3)/len(acidentes_2),3)\n",
    "p"
   ]
  },
  {
   "cell_type": "code",
   "execution_count": 9,
   "id": "9d7cd359",
   "metadata": {},
   "outputs": [
    {
     "data": {
      "text/plain": [
       "(0.6309178099784198, 0.74708219002158)"
      ]
     },
     "execution_count": 9,
     "metadata": {},
     "output_type": "execute_result"
    }
   ],
   "source": [
    "#Esta funcao tem como padrao um alpha ou nivel de confianca de 0,05, caso seja necessario utilizar um outro valor, ele pode ser\n",
    "#inserido como argumento da funcao.\n",
    "\n",
    "sm.stats.proportion_confint(n * p, n)\n"
   ]
  },
  {
   "cell_type": "code",
   "execution_count": null,
   "id": "82dea300",
   "metadata": {},
   "outputs": [],
   "source": [
    "#Com isso, podemos observar que a proporcao encontrada na amostra utilizada (0,689), se encontra no intervalo estimado com 95% \n",
    "#de confianca (Entre 0,630 e 0,747), ou seja, se esse experimento for repetido diversas vezes, em 95% delas a proporcao de acidentes\n",
    "#estara no intervalo estimado."
   ]
  }
 ],
 "metadata": {
  "kernelspec": {
   "display_name": "Python 3",
   "language": "python",
   "name": "python3"
  },
  "language_info": {
   "codemirror_mode": {
    "name": "ipython",
    "version": 3
   },
   "file_extension": ".py",
   "mimetype": "text/x-python",
   "name": "python",
   "nbconvert_exporter": "python",
   "pygments_lexer": "ipython3",
   "version": "3.8.8"
  }
 },
 "nbformat": 4,
 "nbformat_minor": 5
}
